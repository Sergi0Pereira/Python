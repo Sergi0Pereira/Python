{
 "cells": [
  {
   "cell_type": "markdown",
   "metadata": {},
   "source": [
    "# Strings e iteracçoes"
   ]
  },
  {
   "cell_type": "code",
   "execution_count": 10,
   "metadata": {},
   "outputs": [
    {
     "name": "stdout",
     "output_type": "stream",
     "text": [
      "1 -  S\n",
      "2 -  e\n",
      "3 -  r\n",
      "4 -  g\n",
      "5 -  i\n",
      "6 -  o\n"
     ]
    }
   ],
   "source": [
    "palavra=\"Sergio\"\n",
    "i=1\n",
    "for letra in palavra:\n",
    "    print(i, \"- \",letra)\n",
    "    i=i+1"
   ]
  },
  {
   "cell_type": "code",
   "execution_count": 18,
   "metadata": {},
   "outputs": [
    {
     "name": "stdout",
     "output_type": "stream",
     "text": [
      "1 -  S\n",
      "2 -  E\n",
      "3 -  R\n",
      "4 -  G\n",
      "5 -  I\n",
      "6 -  O\n",
      "\n",
      "\n",
      "6 -  O\n",
      "5 -  I\n",
      "4 -  G\n",
      "3 -  R\n",
      "2 -  E\n",
      "1 -  S\n"
     ]
    }
   ],
   "source": [
    "palavra=\"Sergio\"\n",
    "Invert=palavra[::-1]\n",
    "i=1\n",
    "for letra in palavra:\n",
    "    print(i, \"- \",letra.upper())\n",
    "    i=i+1\n",
    "    \n",
    "i=i-1\n",
    "\n",
    "print(\"\\n\")\n",
    "for letra in Invert:\n",
    "    print(i, \"- \",letra.upper())\n",
    "    i=i-1"
   ]
  },
  {
   "cell_type": "code",
   "execution_count": 35,
   "metadata": {},
   "outputs": [
    {
     "name": "stdout",
     "output_type": "stream",
     "text": [
      "1 -  o\n",
      "2 -  l\n",
      "3 -  a\n"
     ]
    }
   ],
   "source": [
    "#Tarefa 1\n",
    "#Pedir ao utilizador um nome e escreve-lo letra a letra\n",
    "\n",
    "nome=str(input(\"Escreva Aqui o seu nome\"))\n",
    "i=1\n",
    "\n",
    "for letra in nome:\n",
    "    print(i, \"- \",letra)\n",
    "    \n",
    "    i=i+1\n"
   ]
  },
  {
   "cell_type": "code",
   "execution_count": null,
   "metadata": {},
   "outputs": [],
   "source": []
  },
  {
   "cell_type": "code",
   "execution_count": 109,
   "metadata": {},
   "outputs": [
    {
     "name": "stdout",
     "output_type": "stream",
     "text": [
      "1 -  o\n",
      "2 -  l\n",
      "3 -  I\n",
      "4 -  g\n",
      "5 -  a\n",
      "6 -  r\n",
      "7 -  c\n",
      "8 -  a\n",
      "oligarca\n"
     ]
    }
   ],
   "source": [
    "primeiroNome=str(input(\"Escreva Aqui o seu nome\"))\n",
    "i=1\n",
    "x=\"\"\n",
    "for novo_nome in primeiroNome:\n",
    "    if novo_nome == ('i' or 'o'):\n",
    "        print(i, \"- \",novo_nome.upper())\n",
    "        i=i+1\n",
    "        x=x+novo_nome\n",
    "    else:\n",
    "        print(i, \"- \",novo_nome)\n",
    "        i=i+1\n",
    "        x=x+novo_nome\n",
    "   \n",
    "print(x)\n",
    "\n"
   ]
  },
  {
   "cell_type": "code",
   "execution_count": 89,
   "metadata": {},
   "outputs": [
    {
     "name": "stdout",
     "output_type": "stream",
     "text": [
      "s\n",
      "a\n",
      "n\n",
      "d\n",
      "r\n",
      "a\n",
      " \n",
      "a\n",
      "r\n",
      "d\n",
      "n\n",
      "a\n",
      "s\n"
     ]
    }
   ],
   "source": [
    "nome=\"elisandra\"\n",
    "temp=\"\"\n",
    "for letra in nome[3:]:\n",
    "    print(letra)\n",
    "    temp=temp+letra\n",
    "print(\" \")\n",
    "for letra in temp[::-1]:\n",
    "    print(letra)\n",
    "    "
   ]
  },
  {
   "cell_type": "code",
   "execution_count": 106,
   "metadata": {},
   "outputs": [
    {
     "name": "stdout",
     "output_type": "stream",
     "text": [
      "j\n",
      "u\n",
      "s\n",
      " \n",
      "j\n",
      "u\n",
      "s\n",
      "t\n",
      "a\n",
      " \n",
      "p\n",
      "o\n",
      "s\n",
      "i\n",
      "ç\n",
      "a\n",
      "o\n"
     ]
    }
   ],
   "source": [
    "#Tarefa 3: Crie outra palavra com as letras desta\n",
    "nome=\"justaposiçao\"\n",
    "temp=\"\"\n",
    "for letra in nome[:3]:\n",
    "    print(letra)\n",
    "    \n",
    "print(\" \")\n",
    "for letra in nome[:5]:\n",
    "    print(letra)\n",
    "    \n",
    "print(\" \")\n",
    "for letra in nome[5:]:\n",
    "    print(letra)\n",
    "    \n",
    "\n",
    "    \n",
    "    "
   ]
  }
 ],
 "metadata": {
  "interpreter": {
   "hash": "e5898a40ac1bc55161c2b54e62bd79c8b1a24ee26972e08bccb36328cd6b373a"
  },
  "kernelspec": {
   "display_name": "Python 3.9.7 ('base')",
   "language": "python",
   "name": "python3"
  },
  "language_info": {
   "codemirror_mode": {
    "name": "ipython",
    "version": 3
   },
   "file_extension": ".py",
   "mimetype": "text/x-python",
   "name": "python",
   "nbconvert_exporter": "python",
   "pygments_lexer": "ipython3",
   "version": "3.9.7"
  },
  "orig_nbformat": 4
 },
 "nbformat": 4,
 "nbformat_minor": 2
}
