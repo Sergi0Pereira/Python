{
 "cells": [
  {
   "cell_type": "markdown",
   "metadata": {},
   "source": [
    "Condicionais Encadeadas"
   ]
  },
  {
   "cell_type": "code",
   "execution_count": 34,
   "metadata": {},
   "outputs": [
    {
     "name": "stdout",
     "output_type": "stream",
     "text": [
      "Ganhou 3 Euro. Acertou 4 numeros.\n",
      "<function testa at 0x0000024AF4C9BE50>\n"
     ]
    }
   ],
   "source": [
    "def testa(num,chave):\n",
    "    if (num in chave):\n",
    "        return True\n",
    "    else:\n",
    "        return False \n",
    "     \n",
    "chave=\"1,2,3,4,5\"\n",
    "contador:0\n",
    "\n",
    "num1=input(\"Insira um número\")\n",
    "num2=input(\"Insira um número\")\n",
    "num3=input(\"Insira um número\")\n",
    "num4=input(\"Insira um número\")\n",
    "num5=input(\"Insira um número\")\n",
    "\n",
    "\n",
    "if testa(num1,chave):\n",
    "    contador=contador+1\n",
    "if testa(num2,chave):\n",
    "    contador=contador+1\n",
    "if testa(num3,chave):\n",
    "    contador=contador+1\n",
    "if testa(num4,chave):\n",
    "    contador=contador+1\n",
    "if testa(num5,chave):\n",
    "    contador=contador+1\n",
    "    \n",
    "if contador <2:\n",
    "    msg=\"Lamentomas nao ganhou nada. Acertou \" + str(contador) + \" numeros.\"\n",
    "elif contador ==2:\n",
    "    msg=\"Ganhou 1 Euro. Acertou \" + str(contador) + \" numeros.\"        \n",
    "elif contador ==3:\n",
    "    msg=\"Ganhou 2 Euro. Acertou \" + str(contador) + \" numeros.\"   \n",
    "elif contador ==4:\n",
    "    msg=\"Ganhou 3 Euro. Acertou \" + str(contador) + \" numeros.\"  \n",
    "elif contador ==5:\n",
    "    msg=\"Ganhou 5 Euro. Acertou \" + str(contador) + \" numeros.\"   \n",
    "print(msg)\n",
    "print(testa)\n"
   ]
  },
  {
   "cell_type": "code",
   "execution_count": 27,
   "metadata": {},
   "outputs": [
    {
     "name": "stdout",
     "output_type": "stream",
     "text": [
      "Anagrama:  ['e', 'g', 'i', 'o', 'r', 's']\n"
     ]
    }
   ],
   "source": [
    "nome= input(\"Insira um nome\")\n",
    "cod=sorted(nome)\n",
    "print(\"Anagrama: \",cod)"
   ]
  },
  {
   "cell_type": "code",
   "execution_count": 31,
   "metadata": {},
   "outputs": [
    {
     "name": "stdout",
     "output_type": "stream",
     "text": [
      "Olá,<br> \n",
      "Eu estou noutra linha.\n"
     ]
    }
   ],
   "source": [
    "print(\"Olá, \\nEu estou noutra linha.\")"
   ]
  },
  {
   "cell_type": "code",
   "execution_count": 35,
   "metadata": {},
   "outputs": [
    {
     "name": "stdout",
     "output_type": "stream",
     "text": [
      "sergio \t 32 \t gondomar\n"
     ]
    }
   ],
   "source": [
    "nome= input(\"Insira um nome.\")\n",
    "idade= input(\"Insira a sua idade.\")\n",
    "cidade= input(\"Insira a sua cidade.\")\n",
    "\n",
    "print(nome,\"\\t\",idade,\"\\t\",cidade)"
   ]
  },
  {
   "cell_type": "code",
   "execution_count": 37,
   "metadata": {},
   "outputs": [
    {
     "name": "stdout",
     "output_type": "stream",
     "text": [
      "Como disse Socrates: \"Só sei que nada sei.\"\n"
     ]
    }
   ],
   "source": [
    "print(\"Como disse Socrates: \\\"Só sei que nada sei.\\\"\")"
   ]
  },
  {
   "cell_type": "code",
   "execution_count": 45,
   "metadata": {},
   "outputs": [
    {
     "name": "stdout",
     "output_type": "stream",
     "text": [
      "\\\\\\WARNING///\n"
     ]
    }
   ],
   "source": [
    "print(\"\\\\\\\\\\WARNING///\")"
   ]
  },
  {
   "cell_type": "code",
   "execution_count": 51,
   "metadata": {},
   "outputs": [
    {
     "name": "stdout",
     "output_type": "stream",
     "text": [
      "um \t dois \t tres \n",
      "quatro \t cinco \t seis\n"
     ]
    }
   ],
   "source": [
    "print(\"um\",\"\\t\",\"dois\",\"\\t\",\"tres\",\"\\n\"\"quatro\",\"\\t\",\"cinco\",\"\\t\",\"seis\"\"\")"
   ]
  }
 ],
 "metadata": {
  "interpreter": {
   "hash": "e5898a40ac1bc55161c2b54e62bd79c8b1a24ee26972e08bccb36328cd6b373a"
  },
  "kernelspec": {
   "display_name": "Python 3.9.7 ('base')",
   "language": "python",
   "name": "python3"
  },
  "language_info": {
   "codemirror_mode": {
    "name": "ipython",
    "version": 3
   },
   "file_extension": ".py",
   "mimetype": "text/x-python",
   "name": "python",
   "nbconvert_exporter": "python",
   "pygments_lexer": "ipython3",
   "version": "3.9.7"
  },
  "orig_nbformat": 4
 },
 "nbformat": 4,
 "nbformat_minor": 2
}
