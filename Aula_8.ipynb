{
 "cells": [
  {
   "cell_type": "markdown",
   "metadata": {},
   "source": [
    "#Ciclos (Loops)"
   ]
  },
  {
   "cell_type": "code",
   "execution_count": null,
   "metadata": {},
   "outputs": [],
   "source": [
    "continuar = True;\n",
    "while continuar :\n",
    "    print(\"Boa Tarde\");\n",
    "    opcao=input(\"Quer continuar?\").upper()\n",
    "    if opcao != \"S\":\n",
    "        print (\"Entao até mais logo!\")\n",
    "        break;\n",
    "    \n",
    "\n",
    "        "
   ]
  },
  {
   "cell_type": "code",
   "execution_count": null,
   "metadata": {},
   "outputs": [],
   "source": [
    "continuar = True;\n",
    "while continuar :\n",
    "    print(\"Boa Tarde\");\n",
    "    opcao=input(\"Quer continuar?\").upper()\n",
    "    if opcao.startswith(\"N\"):\n",
    "        break;"
   ]
  },
  {
   "cell_type": "code",
   "execution_count": null,
   "metadata": {},
   "outputs": [],
   "source": [
    "i=0\n",
    "while True:\n",
    "    op=input(\"Posso contar com voce?\").upper()\n",
    "    i+=1\n",
    "    if op.startswith(\"N\"):\n",
    "        break\n",
    "    print(i)"
   ]
  },
  {
   "cell_type": "code",
   "execution_count": null,
   "metadata": {},
   "outputs": [],
   "source": [
    "contador =1\n",
    "while True:\n",
    "    print(\"Contador: \" , contador)\n",
    "    contador+=1\n",
    "    if contador >4:\n",
    "        break\n",
    "print(\"Chegamos ao máximo!\")"
   ]
  },
  {
   "cell_type": "code",
   "execution_count": null,
   "metadata": {},
   "outputs": [],
   "source": [
    "#contar e sair\n",
    "porto=0\n",
    "benfica=0\n",
    "sporting=0\n",
    "\n",
    "while True:\n",
    "    equipa=input(\"Insira a equipa que marcou: 'P - Porto,B - Benfica , S - Sporting\").lower()\n",
    "    if equipa.startswith(\"p\"):\n",
    "        porto+=1\n",
    "    elif equipa.startswith(\"b\"):\n",
    "        benfica+=1\n",
    "    elif equipa.startswith(\"s\"):\n",
    "        sporting+=1\n",
    "    elif equipa.startswith(\"exit\"):\n",
    "        break\n",
    "    else:\n",
    "       print(\"Opçao Inválida.\")    \n",
    "    print(\"Resultado final:\\n \")\n",
    "    print(\"Porto:\", porto)\n",
    "    print(\"Benfica:\", benfica)\n",
    "    print(\"Sporting:\", sporting)    "
   ]
  },
  {
   "cell_type": "code",
   "execution_count": null,
   "metadata": {},
   "outputs": [],
   "source": [
    "s=int(0)\n",
    "m=int(0)\n",
    "l=int(0)\n",
    "preco=float(25.3)\n",
    "while True:\n",
    "    tamanho=input(\"Insira o tamanho que pretende: 'S- Small,M- Medium , L - Large\").lower() \n",
    "    if tamanho.startswith(\"s\"):\n",
    "        s+=quantidade\n",
    "        quantidade =int(input(\"Insira a quantidade que pretende: \"))\n",
    "\n",
    "    elif tamanho.startswith(\"m\"):\n",
    "        m+=quantidade\n",
    "        quantidade =int(input(\"Insira a quantidade que pretende: \"))\n",
    "    \n",
    "    elif tamanho.startswith(\"l\"):\n",
    "        l+=quantidade\n",
    "        quantidade =int(input(\"Insira a quantidade que pretende: \"))\n",
    "        \n",
    "    elif tamanho.startswith(\"exit\"):\n",
    "        break\n",
    "    else:\n",
    "        print(\"Opçao Inválida.\") \n",
    "        \n",
    "    print(\"Quantidades:\\n \")\n",
    "    print(\"Small:\",s, \" unidades. Total Price: \", s*preco)\n",
    "    print(\"Medium:\", m ,\"unidades.Total Price: \", m*preco)\n",
    "    print(\"Large:\", l, \"unidades.Total Price: \", l*preco) "
   ]
  }
 ],
 "metadata": {
  "interpreter": {
   "hash": "e5898a40ac1bc55161c2b54e62bd79c8b1a24ee26972e08bccb36328cd6b373a"
  },
  "kernelspec": {
   "display_name": "Python 3.9.7 ('base')",
   "language": "python",
   "name": "python3"
  },
  "language_info": {
   "codemirror_mode": {
    "name": "ipython",
    "version": 3
   },
   "file_extension": ".py",
   "mimetype": "text/x-python",
   "name": "python",
   "nbconvert_exporter": "python",
   "pygments_lexer": "ipython3",
   "version": "3.9.7"
  },
  "orig_nbformat": 4
 },
 "nbformat": 4,
 "nbformat_minor": 2
}
