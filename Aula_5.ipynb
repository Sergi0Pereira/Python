{
 "cells": [
  {
   "cell_type": "markdown",
   "metadata": {},
   "source": [
    "# Conceitos : Operadores de Comparaçao\n",
    "\n",
    ">\n",
    ">\n",
    "<= , <=\n",
    "==\n",
    "Assign = vs Compare ==\n",
    "!=\n"
   ]
  },
  {
   "cell_type": "code",
   "execution_count": 1,
   "metadata": {},
   "outputs": [
    {
     "name": "stdout",
     "output_type": "stream",
     "text": [
      "3\n"
     ]
    }
   ],
   "source": [
    "x=3\n",
    "print(x)"
   ]
  },
  {
   "cell_type": "code",
   "execution_count": 3,
   "metadata": {},
   "outputs": [
    {
     "name": "stdout",
     "output_type": "stream",
     "text": [
      "False\n"
     ]
    }
   ],
   "source": [
    "x=5\n",
    "print(x==3)"
   ]
  },
  {
   "cell_type": "code",
   "execution_count": 4,
   "metadata": {},
   "outputs": [
    {
     "name": "stdout",
     "output_type": "stream",
     "text": [
      "False\n"
     ]
    }
   ],
   "source": [
    "x=3\n",
    "print(x!=3)"
   ]
  },
  {
   "cell_type": "code",
   "execution_count": 5,
   "metadata": {},
   "outputs": [
    {
     "name": "stdout",
     "output_type": "stream",
     "text": [
      "x was 21\n",
      "now x is 25\n"
     ]
    }
   ],
   "source": [
    "x = 21\n",
    "if x > 25:\n",
    "    print(\"x is already bigger than 25\")\n",
    "else:\n",
    "    print(\"x was\", x)\n",
    "x = 25\n",
    "print(\"now x is\", x)"
   ]
  },
  {
   "cell_type": "code",
   "execution_count": 13,
   "metadata": {},
   "outputs": [
    {
     "name": "stdout",
     "output_type": "stream",
     "text": [
      "15 É diferente de 18\n"
     ]
    }
   ],
   "source": [
    "x=15\n",
    "teste=18\n",
    "if x!= teste:\n",
    "    print(x,\"É diferente de\",teste)\n",
    "else: \n",
    "    print(x,\"É igual a\",teste)"
   ]
  },
  {
   "cell_type": "code",
   "execution_count": 19,
   "metadata": {},
   "outputs": [
    {
     "name": "stdout",
     "output_type": "stream",
     "text": [
      "15 É igual a 15\n"
     ]
    }
   ],
   "source": [
    "#tarefa: pede um numero e compara com 15\n",
    "x=int(input(\"Insira um Numero:\")) #sempre que entra um input assume como str\n",
    "teste=15\n",
    "if x> teste:\n",
    "    print(x,\"É maior que\",teste)\n",
    "elif x== teste:\n",
    "    print (x,\"É igual a\",teste)\n",
    "else: \n",
    "    print(x,\"É menor que\",teste)\n"
   ]
  },
  {
   "cell_type": "code",
   "execution_count": 24,
   "metadata": {},
   "outputs": [
    {
     "name": "stdout",
     "output_type": "stream",
     "text": [
      "Nao\n"
     ]
    }
   ],
   "source": [
    "#Testar strings - Será que A é maior do que a?\n",
    "\n",
    "if \"A\" > \"a\":\n",
    "    print(\"Sim\")\n",
    "else:\n",
    "    print(\"Nao\")\n",
    "\n",
    "\n"
   ]
  },
  {
   "cell_type": "code",
   "execution_count": 26,
   "metadata": {},
   "outputs": [
    {
     "name": "stdout",
     "output_type": "stream",
     "text": [
      "* É maior do que #\n"
     ]
    }
   ],
   "source": [
    "if \"*\" > \"#\":\n",
    "    print(\"* É maior do que #\")\n",
    "else:\n",
    "    print(\"# é maior do que *\")"
   ]
  },
  {
   "cell_type": "code",
   "execution_count": 28,
   "metadata": {},
   "outputs": [
    {
     "name": "stdout",
     "output_type": "stream",
     "text": [
      "Zebra é maior do que Cavalo\n"
     ]
    }
   ],
   "source": [
    "if \"Cavalo\" > \"zebra\":\n",
    "    print(\"Cavalo É maior do que zebra\")\n",
    "else:\n",
    "    print(\"Zebra é maior do que Cavalo\")"
   ]
  },
  {
   "cell_type": "code",
   "execution_count": 32,
   "metadata": {},
   "outputs": [
    {
     "name": "stdout",
     "output_type": "stream",
     "text": [
      "Cavalo É maior do que Cabrito\n"
     ]
    }
   ],
   "source": [
    "if \"Cavalo\" > \"Cabrito\":\n",
    "    print(\"Cavalo É maior do que Cabrito\")\n",
    "else:\n",
    "    print(\"Cabrito é maior do que Cavalo\")"
   ]
  },
  {
   "cell_type": "code",
   "execution_count": 40,
   "metadata": {},
   "outputs": [
    {
     "name": "stdout",
     "output_type": "stream",
     "text": [
      "O que é mais importante? Porto ou Lisboa?\n",
      "Correto\n"
     ]
    }
   ],
   "source": [
    "print(\"O que é mais importante? Porto ou Lisboa?\")\n",
    "resp= input(\"Insira aqui a sua resposta: \").upper()\n",
    "if resp==\"P\":\n",
    "    print(\"Correto\")\n",
    "else:\n",
    "    print(\"Errado\")\n"
   ]
  }
 ],
 "metadata": {
  "interpreter": {
   "hash": "2be5faf79681da6f2a61fdfdd5405d65d042280f7fba6178067603e3a2925119"
  },
  "kernelspec": {
   "display_name": "Python 3.10.4 64-bit",
   "language": "python",
   "name": "python3"
  },
  "language_info": {
   "codemirror_mode": {
    "name": "ipython",
    "version": 3
   },
   "file_extension": ".py",
   "mimetype": "text/x-python",
   "name": "python",
   "nbconvert_exporter": "python",
   "pygments_lexer": "ipython3",
   "version": "3.9.7"
  },
  "orig_nbformat": 4
 },
 "nbformat": 4,
 "nbformat_minor": 2
}
