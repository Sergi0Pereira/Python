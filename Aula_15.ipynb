{
 "cells": [
  {
   "cell_type": "markdown",
   "metadata": {},
   "source": [
    "range(start,stop,step)"
   ]
  },
  {
   "cell_type": "code",
   "execution_count": 6,
   "metadata": {},
   "outputs": [
    {
     "name": "stdout",
     "output_type": "stream",
     "text": [
      "[1, 2, 3, 4, 5, 6, 7, 8, 9, 10, 11, 12, 13, 14, 15, 16, 17, 18]\n"
     ]
    }
   ],
   "source": [
    "impares=list(range(1,19,1))\n",
    "print(impares)"
   ]
  },
  {
   "cell_type": "markdown",
   "metadata": {},
   "source": [
    "#Tarefa: Peça para inserir uma palavra\n",
    "Encontre o tamanhoda palavra\n",
    "Utilize o range para correr as letras da palavra\n",
    "Separe as letras pares e as letras impares em 2 listas diferentes e imprima"
   ]
  },
  {
   "cell_type": "code",
   "execution_count": 30,
   "metadata": {},
   "outputs": [
    {
     "name": "stdout",
     "output_type": "stream",
     "text": [
      "Par {1: 'o', 3: 't', 5: 'g', 7: 'l'}\n",
      "Impar {0: 'p', 2: 'r', 4: 'u', 6: 'a'}\n"
     ]
    }
   ],
   "source": [
    "pal=input(\"Insira uma palavra\")\n",
    "tam=len(pal)\n",
    "pares=[]\n",
    "impares=[]\n",
    "for i in range(0,tam,1):\n",
    "    if i%2!=0:\n",
    "        pares[i]=pal[i] \n",
    "    else:\n",
    "        impares[i]=pal[i]\n",
    "\n",
    "print(\"Par\",pares)\n",
    "print(\"Impar\",impares)\t\n",
    "\n",
    "\n"
   ]
  },
  {
   "cell_type": "markdown",
   "metadata": {},
   "source": [
    "Extend(),reverse(),sort()"
   ]
  },
  {
   "cell_type": "code",
   "execution_count": 43,
   "metadata": {},
   "outputs": [
    {
     "name": "stdout",
     "output_type": "stream",
     "text": [
      "['Porto', 'Benfica', 'Sporting', 'Braga', 'Barcelona', 'Liverpool', 'Milan', 'Juventus']\n",
      "['Porto', 'Benfica', 'Sporting', 'Braga', 'Barcelona', 'Liverpool', 'Milan', 'Juventus']\n",
      "['Juventus', 'Milan', 'Liverpool', 'Barcelona', 'Braga', 'Sporting', 'Benfica', 'Porto']\n",
      "['Barcelona', 'Benfica', 'Braga', 'Juventus', 'Liverpool', 'Milan', 'Porto', 'Sporting']\n",
      "['Barcelona', 'Juventus', 'Liverpool', 'Milan']\n"
     ]
    }
   ],
   "source": [
    "lista1=[\"Porto\",\"Benfica\",\"Sporting\",\"Braga\"]\n",
    "lista2=[\"Barcelona\",\"Liverpool\",\"Milan\",\"Juventus\"]\n",
    "soma=lista1+lista2\n",
    "\n",
    "print(soma)\n",
    "\n",
    "lista1.extend(lista2)\n",
    "print(lista1)\n",
    "\n",
    "lista1.reverse()\n",
    "print(lista1)\n",
    "\n",
    "lista1.sort()\n",
    "print(lista1)\n",
    "\n",
    "l2o=sorted(lista2)\n",
    "print(l2o)"
   ]
  },
  {
   "cell_type": "markdown",
   "metadata": {},
   "source": [
    "Tarefa: Crie uma lista de animais\n",
    "Faça o input de outra lista de animais\n",
    "Junte e ordene as listas\n",
    "Imprima ordenado e por ordem inversa"
   ]
  },
  {
   "cell_type": "code",
   "execution_count": 72,
   "metadata": {},
   "outputs": [
    {
     "name": "stdout",
     "output_type": "stream",
     "text": [
      "['Avestruz', 'Baleia', 'Cao', 'Cavalo', 'gato', 'leao']\n"
     ]
    }
   ],
   "source": [
    "animais=[\"Cao\",\"gato\",\"Cavalo\",\"Baleia\", \"Avestruz\"]\n",
    "quant=input(\"Insira a quantidade de animais que pretende inserir:\")\n",
    "animais1=[]\n",
    "for i in quant:\n",
    "    animais1=input(\"Insira a sua lista de animais:\")\n",
    "    animais.append(animais1)\n",
    "    animais.sort()\n",
    "    \n",
    "\n",
    "print(animais)"
   ]
  }
 ],
 "metadata": {
  "interpreter": {
   "hash": "e5898a40ac1bc55161c2b54e62bd79c8b1a24ee26972e08bccb36328cd6b373a"
  },
  "kernelspec": {
   "display_name": "Python 3.9.7 ('base')",
   "language": "python",
   "name": "python3"
  },
  "language_info": {
   "codemirror_mode": {
    "name": "ipython",
    "version": 3
   },
   "file_extension": ".py",
   "mimetype": "text/x-python",
   "name": "python",
   "nbconvert_exporter": "python",
   "pygments_lexer": "ipython3",
   "version": "3.9.7"
  },
  "orig_nbformat": 4
 },
 "nbformat": 4,
 "nbformat_minor": 2
}
