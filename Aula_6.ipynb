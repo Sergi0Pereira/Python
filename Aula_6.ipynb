{
 "cells": [
  {
   "cell_type": "markdown",
   "metadata": {},
   "source": [
    "#Aula 6\n",
    "Funçoes com Argumentos"
   ]
  },
  {
   "cell_type": "code",
   "execution_count": 3,
   "metadata": {},
   "outputs": [
    {
     "name": "stdout",
     "output_type": "stream",
     "text": [
      "Ola\n",
      "Adeus\n"
     ]
    }
   ],
   "source": [
    "#Definir uma funçao ---> def\n",
    "def Cumprimento():\n",
    "    print(\"Ola\")\n",
    "    print (\"Adeus\")\n",
    "    \n",
    "Cumprimento()"
   ]
  },
  {
   "cell_type": "code",
   "execution_count": 4,
   "metadata": {},
   "outputs": [
    {
     "name": "stdout",
     "output_type": "stream",
     "text": [
      "Quem é o maior?\n",
      "PORTO\n"
     ]
    }
   ],
   "source": [
    "def pergunta(a): \n",
    "    print (a)\n",
    "def responde(a):   \n",
    "    print (a.upper())\n",
    "    \n",
    "pergunta(\"Quem é o maior?\")\n",
    "responde(\"porto\")"
   ]
  },
  {
   "cell_type": "code",
   "execution_count": 7,
   "metadata": {},
   "outputs": [
    {
     "name": "stdout",
     "output_type": "stream",
     "text": [
      "DS\n"
     ]
    }
   ],
   "source": [
    "x=str(input(\"Insira o clube que vai ser campeao em 2022.\"))\n",
    "responde(x)"
   ]
  },
  {
   "cell_type": "code",
   "execution_count": 12,
   "metadata": {},
   "outputs": [
    {
     "name": "stdout",
     "output_type": "stream",
     "text": [
      "25\n"
     ]
    }
   ],
   "source": [
    "def multiplica(x,y):\n",
    "    res=x*y\n",
    "    print(res)\n",
    "    \n",
    "a=int(input(\"Primeiro Numero\"))\n",
    "b=int(input(\"Segundo Numero\"))\n",
    "multiplica(a,b)"
   ]
  },
  {
   "cell_type": "code",
   "execution_count": null,
   "metadata": {},
   "outputs": [],
   "source": [
    "def multiplica(x,y):\n",
    "    res=x*y\n",
    "    return (res)\n",
    "    \n",
    "a=int(input(\"Primeiro Numero\"))\n",
    "b=int(input(\"Segundo Numero\"))\n",
    "multiplica(a,b)"
   ]
  },
  {
   "cell_type": "code",
   "execution_count": 43,
   "metadata": {},
   "outputs": [
    {
     "name": "stdout",
     "output_type": "stream",
     "text": [
      "5 + 5 = 10\n",
      "25\n",
      "5 x 5 = None\n"
     ]
    }
   ],
   "source": [
    "def soma(x,y):\n",
    "    res=x+y\n",
    "    return (res)\n",
    "    \n",
    "a=int(input(\"Primeiro Numero\"))\n",
    "b=int(input(\"Segundo Numero\"))\n",
    "\n",
    "s=soma(a,b)\n",
    "print (a ,\"+\"  ,b,  \"=\",s)\n",
    "\n",
    "m=multiplica(a,b)\n",
    "print (a ,\"x\"  ,b, \"=\",m)\n",
    "\n"
   ]
  }
 ],
 "metadata": {
  "interpreter": {
   "hash": "2be5faf79681da6f2a61fdfdd5405d65d042280f7fba6178067603e3a2925119"
  },
  "kernelspec": {
   "display_name": "Python 3.10.4 64-bit",
   "language": "python",
   "name": "python3"
  },
  "language_info": {
   "codemirror_mode": {
    "name": "ipython",
    "version": 3
   },
   "file_extension": ".py",
   "mimetype": "text/x-python",
   "name": "python",
   "nbconvert_exporter": "python",
   "pygments_lexer": "ipython3",
   "version": "3.9.7"
  },
  "orig_nbformat": 4
 },
 "nbformat": 4,
 "nbformat_minor": 2
}
