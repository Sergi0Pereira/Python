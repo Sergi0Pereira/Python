{
 "cells": [
  {
   "cell_type": "markdown",
   "id": "86c4967e",
   "metadata": {},
   "source": [
    "# Aula 1 - Python"
   ]
  },
  {
   "cell_type": "code",
   "execution_count": 1,
   "id": "17468f83",
   "metadata": {},
   "outputs": [
    {
     "name": "stdout",
     "output_type": "stream",
     "text": [
      "Hello World\n",
      "Eu sou o Sérgio\n"
     ]
    }
   ],
   "source": [
    "print(\"Hello World\")\n",
    "#Eu sou um comentário\n",
    "\"\"\" Eu sou um comentário Multinhas\"\"\"\n",
    "msg=\"Eu sou o Sérgio\"\n",
    "print(msg)"
   ]
  },
  {
   "cell_type": "code",
   "execution_count": 2,
   "id": "b450c643",
   "metadata": {},
   "outputs": [
    {
     "name": "stdout",
     "output_type": "stream",
     "text": [
      "<class 'int'>\n",
      "<class 'str'>\n",
      "<class 'float'>\n",
      "7.165\n"
     ]
    }
   ],
   "source": [
    "\"\"\"Como saber o tipo de uma variável?\"\"\"\n",
    "\n",
    "num=4\n",
    "print(type(num))\n",
    "\n",
    "nome=\"Sergio\"\n",
    "print(type(nome))\n",
    "\n",
    "num2=3.165\n",
    "print(type(num2))\n",
    "\n",
    "print(num+num2)"
   ]
  },
  {
   "cell_type": "code",
   "execution_count": 3,
   "id": "bdad0ecd",
   "metadata": {},
   "outputs": [
    {
     "name": "stdout",
     "output_type": "stream",
     "text": [
      "('1', 2)\n"
     ]
    }
   ],
   "source": [
    "num1=\"1\"\n",
    "num2= 2\n",
    "num3= num1,num2\n",
    "#num4= num1+num2 nao consegue concatenar string com int´s\n",
    "print(num3) "
   ]
  },
  {
   "cell_type": "markdown",
   "id": "54b55e0b",
   "metadata": {},
   "source": [
    "Erros Mais Comuns\n",
    "\n",
    "TypeError - Operação comdados de tipos diferentes\n",
    "SyntaxError - Erros de escrita da linguagem Python\n",
    "NameError - "
   ]
  },
  {
   "cell_type": "code",
   "execution_count": 30,
   "id": "a45952a1",
   "metadata": {},
   "outputs": [
    {
     "name": "stdout",
     "output_type": "stream",
     "text": [
      "Insira um número:sdsd\n",
      "Insira outro número:4\n",
      "A soma é: sdsd4\n"
     ]
    }
   ],
   "source": [
    "#input\n",
    "num1=input(\"Insira um número:\")\n",
    "num2=input(\"Insira outro número:\")\n",
    "soma=num1+num2\n",
    "print(\"A soma é: \" + soma)"
   ]
  }
 ],
 "metadata": {
  "kernelspec": {
   "display_name": "Python 3 (ipykernel)",
   "language": "python",
   "name": "python3"
  },
  "language_info": {
   "codemirror_mode": {
    "name": "ipython",
    "version": 3
   },
   "file_extension": ".py",
   "mimetype": "text/x-python",
   "name": "python",
   "nbconvert_exporter": "python",
   "pygments_lexer": "ipython3",
   "version": "3.9.7"
  }
 },
 "nbformat": 4,
 "nbformat_minor": 5
}
