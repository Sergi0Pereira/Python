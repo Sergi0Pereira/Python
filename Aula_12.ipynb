{
 "cells": [
  {
   "cell_type": "code",
   "execution_count": null,
   "metadata": {},
   "outputs": [],
   "source": [
    "#Continuaçao das listas"
   ]
  },
  {
   "cell_type": "code",
   "execution_count": 18,
   "metadata": {},
   "outputs": [
    {
     "name": "stdout",
     "output_type": "stream",
     "text": [
      "[1, 2, 3, 4]\n",
      "[1, 2, 3, 4, 2]\n",
      "[1, 2, 3, 4, 2, [1, 2, 3]]\n",
      "[1, 2, 3, 4, 2, [1, 2, 3], 1, 2, 3]\n",
      "[1, 2, 3, 4, 2, [1, 2, 3]] [1, 2, 3] [2, 4, 6]\n"
     ]
    }
   ],
   "source": [
    "# append\n",
    "\n",
    "lista_inicial=[1,2,3]\n",
    "lista_final = [1,2,3]\n",
    "\n",
    "lista_inicial.append(4)\n",
    "print(lista_inicial)\n",
    "lista_inicial.append(lista_inicial[1])\n",
    "print(lista_inicial)\n",
    "lista_inicial.append(lista_final)\n",
    "print(lista_inicial)\n",
    "lista_soma= lista_inicial+ lista_final\n",
    "print(lista_soma)\n",
    "lista_soma=[x+y  for (x,y) in zip(lista_inicial,lista_final)]\n",
    "print(lista_inicial, lista_final, lista_soma)"
   ]
  },
  {
   "cell_type": "code",
   "execution_count": 28,
   "metadata": {},
   "outputs": [
    {
     "name": "stdout",
     "output_type": "stream",
     "text": [
      "['50', '50', 3, 4, 2, [1, 2, 3]]\n",
      "['50', '50', 3, 4, 2, [1, 2, 3]]\n",
      "['50', '45', 3, 4, 2, [1, 2, 3]]\n"
     ]
    }
   ],
   "source": [
    "print(lista_inicial)\n",
    "\n",
    "def sub (lista, indice, valor):\n",
    "    lista[indice]=valor\n",
    "print(lista_inicial)\n",
    "sub(lista_inicial,1,\"45\")\n",
    "print(lista_inicial)\n",
    "    "
   ]
  },
  {
   "cell_type": "code",
   "execution_count": 48,
   "metadata": {},
   "outputs": [
    {
     "name": "stdout",
     "output_type": "stream",
     "text": [
      "SERGIO\n",
      "MIGUEL\n",
      "PEREIRA\n",
      "['SERGIO', 'MIGUEL', 'PEREIRA']\n"
     ]
    }
   ],
   "source": [
    "#Tarefa 1\n",
    "# Criar uma lista com3 palavras. Modificar as tres palavras em tres Maiusculas.\n",
    "\n",
    "lista=[\"sergio\", \"miguel\", \"pereira\"]\n",
    "i=0\n",
    "while (i<len(lista)):\n",
    "    lista[i]=lista[i].upper()\n",
    "    print(lista[i].upper())\n",
    "    i=i+1\n",
    "print(lista)\n"
   ]
  },
  {
   "cell_type": "code",
   "execution_count": 63,
   "metadata": {},
   "outputs": [
    {
     "name": "stdout",
     "output_type": "stream",
     "text": [
      "['Porto', 'Lisboa', 'Coimbra']\n",
      "['Porto', 'Faro', 'Lisboa', 'Coimbra']\n"
     ]
    }
   ],
   "source": [
    "#Inserir uma lista\n",
    "\n",
    "lista=['Porto', 'Lisboa','Coimbra']\n",
    "print(lista)\n",
    "lista.insert(1,'Faro')\n",
    "print(lista)"
   ]
  },
  {
   "cell_type": "code",
   "execution_count": 70,
   "metadata": {},
   "outputs": [
    {
     "name": "stdout",
     "output_type": "stream",
     "text": [
      "['lola', 'Ronaldo', 'Goucha', 'Lili Caneças']\n"
     ]
    }
   ],
   "source": [
    "#Tarefa2 - Convidados[\"Ronaldo\", \"Goucha\", \"Lili Caneças\"] -- pedir um nome e adicionar à lista\n",
    "\n",
    "Convidados=[\"Ronaldo\", \"Goucha\", \"Lili Caneças\"]\n",
    "\n",
    "nome=input(\"Escreva aqui o nome do proximo convidado\")\n",
    "Convidados.insert(0,nome)\n",
    "print(Convidados)"
   ]
  }
 ],
 "metadata": {
  "interpreter": {
   "hash": "e5898a40ac1bc55161c2b54e62bd79c8b1a24ee26972e08bccb36328cd6b373a"
  },
  "kernelspec": {
   "display_name": "Python 3.9.7 ('base')",
   "language": "python",
   "name": "python3"
  },
  "language_info": {
   "codemirror_mode": {
    "name": "ipython",
    "version": 3
   },
   "file_extension": ".py",
   "mimetype": "text/x-python",
   "name": "python",
   "nbconvert_exporter": "python",
   "pygments_lexer": "ipython3",
   "version": "3.9.7"
  },
  "orig_nbformat": 4
 },
 "nbformat": 4,
 "nbformat_minor": 2
}
