{
 "cells": [
  {
   "cell_type": "markdown",
   "metadata": {},
   "source": [
    "#Conceito: Uma Lista Vazia é Falsa"
   ]
  },
  {
   "cell_type": "code",
   "execution_count": 5,
   "metadata": {},
   "outputs": [
    {
     "name": "stdout",
     "output_type": "stream",
     "text": [
      "Poodle\n",
      "Pug\n",
      "Labrador\n"
     ]
    }
   ],
   "source": [
    "caes=[\"Labrador\", \"Pug\", \"Poodle\"]\n",
    "\n",
    "while caes:\n",
    "    print (caes.pop())\n"
   ]
  },
  {
   "cell_type": "code",
   "execution_count": 26,
   "metadata": {},
   "outputs": [
    {
     "name": "stdout",
     "output_type": "stream",
     "text": [
      "5\n",
      "15\n",
      "35\n",
      "85\n"
     ]
    },
    {
     "ename": "IndexError",
     "evalue": "list index out of range",
     "output_type": "error",
     "traceback": [
      "\u001b[1;31m---------------------------------------------------------------------------\u001b[0m",
      "\u001b[1;31mIndexError\u001b[0m                                Traceback (most recent call last)",
      "\u001b[1;32m~\\AppData\\Local\\Temp/ipykernel_6628/1514776349.py\u001b[0m in \u001b[0;36m<module>\u001b[1;34m\u001b[0m\n\u001b[0;32m      3\u001b[0m \u001b[0mtotal\u001b[0m\u001b[1;33m=\u001b[0m\u001b[1;36m0\u001b[0m\u001b[1;33m\u001b[0m\u001b[1;33m\u001b[0m\u001b[0m\n\u001b[0;32m      4\u001b[0m \u001b[1;32mwhile\u001b[0m \u001b[0mnotas\u001b[0m\u001b[1;33m:\u001b[0m\u001b[1;33m\u001b[0m\u001b[1;33m\u001b[0m\u001b[0m\n\u001b[1;32m----> 5\u001b[1;33m     \u001b[0mtotal\u001b[0m\u001b[1;33m=\u001b[0m\u001b[0mtotal\u001b[0m\u001b[1;33m+\u001b[0m\u001b[0mnotas\u001b[0m\u001b[1;33m[\u001b[0m\u001b[0mi\u001b[0m\u001b[1;33m]\u001b[0m\u001b[1;33m\u001b[0m\u001b[1;33m\u001b[0m\u001b[0m\n\u001b[0m\u001b[0;32m      6\u001b[0m     \u001b[0mprint\u001b[0m\u001b[1;33m(\u001b[0m\u001b[0mtotal\u001b[0m\u001b[1;33m)\u001b[0m\u001b[1;33m\u001b[0m\u001b[1;33m\u001b[0m\u001b[0m\n\u001b[0;32m      7\u001b[0m     \u001b[0mi\u001b[0m\u001b[1;33m+=\u001b[0m\u001b[1;36m1\u001b[0m\u001b[1;33m\u001b[0m\u001b[1;33m\u001b[0m\u001b[0m\n",
      "\u001b[1;31mIndexError\u001b[0m: list index out of range"
     ]
    }
   ],
   "source": [
    "notas = [5,10,20,50]\n",
    "i=0\n",
    "total=0\n",
    "while notas:\n",
    "    total=total+notas[i]\n",
    "    print(total)\n",
    "    i+=1"
   ]
  },
  {
   "cell_type": "code",
   "execution_count": 37,
   "metadata": {},
   "outputs": [
    {
     "name": "stdout",
     "output_type": "stream",
     "text": [
      "['Pug', 'Poodle']\n"
     ]
    }
   ],
   "source": [
    "caes=[\"Labrador\", \"Pug\", \"Poodle\"]\n",
    "x=input(\"Qual cao quer?\").capitalize()\n",
    "if x in caes:\n",
    "    caes.remove(x)\n",
    "else:\n",
    "    caes(\"Nao temos\")\n",
    "print(caes)\n"
   ]
  },
  {
   "cell_type": "markdown",
   "metadata": {},
   "source": [
    "O poder da iteraçao nas listas"
   ]
  },
  {
   "cell_type": "code",
   "execution_count": 63,
   "metadata": {},
   "outputs": [
    {
     "name": "stdout",
     "output_type": "stream",
     "text": [
      "1\n",
      "Brasilia\n",
      "Helsinquia\n",
      "Budapeste\n",
      "Bucareste\n",
      "\n",
      "Cidades Pequenas\n",
      "Madrid\n",
      "Kiev\n"
     ]
    }
   ],
   "source": [
    "cidades=[\"Brasilia\",\"Madrid\",\"Helsinquia\",\"Budapeste\",\"Bucareste\",\"Kiev\"]\n",
    "cidades_pequenas=[]\n",
    "cidades_grandes=[]\n",
    "\n",
    "print(cidades.index(\"Madrid\"))\n",
    "\n",
    "for cidades in cidades:\n",
    "    if len(cidades)>7:\n",
    "        cidades_grandes.append(cidades)\n",
    "    else:\n",
    "        cidades_pequenas.append(cidades)\n",
    "        \n",
    "for x in cidades_grandes:\n",
    "    print(x)\n",
    "print()\n",
    "print(\"Cidades Pequenas\")\n",
    "for x in cidades_pequenas:\n",
    "    print(x)\n",
    "\n",
    "#os iteradores nao interferem com os nomes das listas"
   ]
  },
  {
   "cell_type": "code",
   "execution_count": 90,
   "metadata": {},
   "outputs": [],
   "source": [
    "#Tarefa - Liste as capitais que começam por b - Versao 1\n",
    "\n",
    "cidades=[\"Brasilia\",\"Madrid\",\"Helsinquia\",\"Budapeste\",\"Bucareste\",\"Kiev\"]\n",
    "\n",
    "for cidades in cidades:\n",
    "    if cidades.startswith(\"m\"):\n",
    "        print(cidades)\n",
    "        \n"
   ]
  },
  {
   "cell_type": "code",
   "execution_count": null,
   "metadata": {},
   "outputs": [],
   "source": [
    "#Tarefa - Liste as capitais que começam por b - Versao 2\n",
    "\n",
    "cidades=[\"Brasilia\",\"Madrid\",\"Helsinquia\",\"Budapeste\",\"Bucareste\",\"Kiev\"]\n",
    "x=input(\"Insira uma letra: \").capitalize()\n",
    "\n",
    "for cidades in cidades:\n",
    "    if cidades.startswith(x):\n",
    "        print(cidades)"
   ]
  },
  {
   "cell_type": "markdown",
   "metadata": {},
   "source": [
    "Procurar e Contar"
   ]
  },
  {
   "cell_type": "code",
   "execution_count": 95,
   "metadata": {},
   "outputs": [
    {
     "name": "stdout",
     "output_type": "stream",
     "text": [
      "Total=  7\n"
     ]
    }
   ],
   "source": [
    "cidades=[\"Brasilia\",\"Madrid\",\"Helsinquia\",\"Budapeste\",\"Bucareste\",\"Kiev\"]\n",
    "\n",
    "letra=input(\"Insira a letra que pretende procurar\")\n",
    "total=0\n",
    "\n",
    "for cidade in cidades:\n",
    "    total+=cidade.lower().count(letra)\n",
    "\n",
    "print(\"Total= \",total)    \n"
   ]
  },
  {
   "cell_type": "code",
   "execution_count": 97,
   "metadata": {},
   "outputs": [
    {
     "name": "stdout",
     "output_type": "stream",
     "text": [
      "Total de r  : = 3\n"
     ]
    }
   ],
   "source": [
    "cidades=[\"Brasilia\",\"Madrid\",\"Helsinquia\",\"Budapeste\",\"Bucareste\",\"Kiev\"]\n",
    "\n",
    "letra=input(\"Insira a letra que pretende procurar\")\n",
    "total=0\n",
    "\n",
    "for cidade in cidades:\n",
    "    total+=cidade.lower().(letra)\n",
    "\n",
    "print(\"Total de\" ,letra,\" :\", \"=\" ,total)    "
   ]
  },
  {
   "cell_type": "code",
   "execution_count": null,
   "metadata": {},
   "outputs": [],
   "source": [
    "#funçao para pesquisar cidades\n",
    "\n",
    "cidades=[\"Brasilia\",\"Madrid\",\"Helsinquia\",\"Budapeste\",\"Bucareste\",\"Kiev\"]\n",
    "def pesquisa_cidades(cid,cidades):\n",
    "    for cidade in cidades:\n",
    "        if cidade.lower()==cid.lower():\n",
    "            return True\n",
    "        else:\n",
    "            pass #Passa  para a cidade\n",
    "    return False\n",
    "p=input(\"Insira a cidade que pretende procurar\")\n",
    "cidades=[\"Brasilia\",\"Madrid\",\"Helsinquia\",\"Budapeste\",\"Bucareste\",\"Kiev\"]\n",
    "cidades2=[\"Madrid\",\"Helsinquia\",\"Budapeste\",\"Bucareste\",\"Kiev\"]\n",
    "\n",
    "pesquisa_cidades(p,cidades2)\n",
    "pesquisa_cidades(p,cidades2)\n",
    "\n",
    "print(\"O seu país está na lista:\", pesquisa_cidades(p,cidades2))\n",
    "print(\"O seu país está na lista:\", pesquisa_cidades(p,cidades))\n"
   ]
  },
  {
   "cell_type": "code",
   "execution_count": 1,
   "metadata": {},
   "outputs": [
    {
     "name": "stdout",
     "output_type": "stream",
     "text": [
      "A sua cor Branco  está indisponivel\n"
     ]
    }
   ],
   "source": [
    "\n",
    "\n",
    "def pesquisa_cores(cor,lista):\n",
    "    for cor in lista:\n",
    "        if cor==lista:\n",
    "            print(\"A sua cor\", cor,\" está disponivel.\")\n",
    "        else:\n",
    "            pass\n",
    "    print(\"A sua cor\", cor,\" está indisponivel\")\n",
    "    \n",
    "cor=input(\"Insira a sua cor\")\n",
    "cores_disponiveis=[\"Verde\",\"Vermelho\",\"Branco\"]\n",
    "pesquisa_cores(cor,cores_disponiveis)"
   ]
  },
  {
   "cell_type": "code",
   "execution_count": 15,
   "metadata": {},
   "outputs": [
    {
     "name": "stdout",
     "output_type": "stream",
     "text": [
      "range(3, 10)\n",
      "7\n",
      "9\n",
      "11\n",
      "13\n",
      "15\n",
      "17\n",
      "19\n"
     ]
    }
   ],
   "source": [
    "dig=range(3,10)\n",
    "\n",
    "print(dig)\n",
    "\n",
    "for c in dig:\n",
    "    print(c)"
   ]
  },
  {
   "cell_type": "code",
   "execution_count": 33,
   "metadata": {},
   "outputs": [
    {
     "name": "stdout",
     "output_type": "stream",
     "text": [
      "Quinta\n",
      "Sexta\n",
      "Sabado\n",
      "Domingo\n"
     ]
    }
   ],
   "source": [
    "#dias\n",
    "dias=[\"Segunda\",\"Terça\",\"Quarta\",\"Quinta\",\"Sexta\",\"Sabado\",\"Domingo\"]\n",
    "\n",
    "metade=int(len(dias)/2)\n",
    "for i in range(metade,len(dias)):\n",
    "    print(dias[i])"
   ]
  }
 ],
 "metadata": {
  "interpreter": {
   "hash": "e5898a40ac1bc55161c2b54e62bd79c8b1a24ee26972e08bccb36328cd6b373a"
  },
  "kernelspec": {
   "display_name": "Python 3.9.7 ('base')",
   "language": "python",
   "name": "python3"
  },
  "language_info": {
   "codemirror_mode": {
    "name": "ipython",
    "version": 3
   },
   "file_extension": ".py",
   "mimetype": "text/x-python",
   "name": "python",
   "nbconvert_exporter": "python",
   "pygments_lexer": "ipython3",
   "version": "3.9.7"
  },
  "orig_nbformat": 4
 },
 "nbformat": 4,
 "nbformat_minor": 2
}
