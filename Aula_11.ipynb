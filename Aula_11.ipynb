{
 "cells": [
  {
   "cell_type": "markdown",
   "metadata": {},
   "source": [
    " Projecto\n",
    "\n",
    " Frase:\"Para seres grande se inteiro.\"\n",
    " um script que escreva uma palavra em cada linha."
   ]
  },
  {
   "cell_type": "code",
   "execution_count": 65,
   "metadata": {},
   "outputs": [
    {
     "name": "stdout",
     "output_type": "stream",
     "text": [
      "Para \n",
      "seres \n",
      "grande \n",
      "se \n",
      "inteiro."
     ]
    }
   ],
   "source": [
    "Frase=\"Para seres grande se inteiro.\"\n",
    "for i in Frase:\n",
    "        print(i,end=\"\")\n",
    "        if i==\" \":\n",
    "            print()\n",
    "            \n",
    "            "
   ]
  },
  {
   "cell_type": "code",
   "execution_count": 63,
   "metadata": {},
   "outputs": [
    {
     "name": "stdout",
     "output_type": "stream",
     "text": [
      "Para \n",
      "seres \n",
      "grande, \n",
      "sê \n",
      "inteiro.\n"
     ]
    }
   ],
   "source": [
    "frase=\"Para seres grande, sê inteiro.\"\n",
    "nova_frase=\"\"\n",
    "for letra in frase:\n",
    "    if letra==\" \":\n",
    "        nova_frase+=letra+\"\\n\"\n",
    "    else:\n",
    "        nova_frase+=letra\n",
    "print(nova_frase)"
   ]
  },
  {
   "cell_type": "code",
   "execution_count": 64,
   "metadata": {},
   "outputs": [
    {
     "name": "stdout",
     "output_type": "stream",
     "text": [
      "Para\n",
      "seres\n",
      "grande,\n",
      "sê\n",
      "inteiro\n"
     ]
    }
   ],
   "source": [
    "frase = \"Para seres grande, sê inteiro\"\n",
    "l = frase.split()\n",
    "pal = '\\n'.join(l)\n",
    "print(pal)"
   ]
  },
  {
   "cell_type": "markdown",
   "metadata": {},
   "source": [
    "Listas"
   ]
  },
  {
   "cell_type": "code",
   "execution_count": 83,
   "metadata": {},
   "outputs": [
    {
     "name": "stdout",
     "output_type": "stream",
     "text": [
      "['Lisboa', 'Porto', 'Faro']\n",
      "[20, 23, 63, 44, 32, 1, 6]\n",
      "[1, 20, 3, ['Lisboa', 'Porto', 'Faro'], [20, 23, 63, 44, 32, 1, 6], 'ola']\n",
      "Euromilhoes:  <class 'list'>\n",
      "Varios:  <class 'list'>\n",
      "Faro\n",
      "Faro [20, 23, 63, 44, 32, 1, 6]\n"
     ]
    }
   ],
   "source": [
    "cidades= [\"Lisboa\", \"Porto\",\"Faro\"]\n",
    "euromilhoes=[20,23,63,44,32,1,6]\n",
    "varios=[1,20,3, cidades, euromilhoes,\"ola\"]\n",
    "print(cidades)\n",
    "print(euromilhoes)\n",
    "print(varios)\n",
    "print(\"Euromilhoes: \", type(cidades))\n",
    "print(\"Varios: \", type(varios))\n",
    "print(cidades[-1])\n",
    "print(cidades[2],varios[4])"
   ]
  },
  {
   "cell_type": "code",
   "execution_count": 99,
   "metadata": {},
   "outputs": [
    {
     "name": "stdout",
     "output_type": "stream",
     "text": [
      "Na rua  1  é proibido estacionar!\n",
      "Na rua  2 pode estacionar.\n",
      "Na rua  3 pode estacionar.\n",
      "Na rua  4  é proibido estacionar!\n"
     ]
    }
   ],
   "source": [
    "# Tarefa1: Crie uma lista com 5 ruas - imprima uma mensgaem de proibido estacionar nas ruas 0 e 4\n",
    "\n",
    "proibido=\"Proibido Estacionar\"\n",
    "rua=[\"camoes\",\"cangostas\",\"cedofeita\",\"Brasilia\"]\n",
    "i=1\n",
    "for x in rua:\n",
    "    if (i == 1 or i==4) :\n",
    "        print(\"Na rua \" , i,\" é proibido estacionar!\")\n",
    "    else:\n",
    "        print(\"Na rua \" ,i,\"pode estacionar.\")\n",
    "        i=i+1   \n"
   ]
  }
 ],
 "metadata": {
  "interpreter": {
   "hash": "e5898a40ac1bc55161c2b54e62bd79c8b1a24ee26972e08bccb36328cd6b373a"
  },
  "kernelspec": {
   "display_name": "Python 3.9.7 ('base')",
   "language": "python",
   "name": "python3"
  },
  "language_info": {
   "codemirror_mode": {
    "name": "ipython",
    "version": 3
   },
   "file_extension": ".py",
   "mimetype": "text/x-python",
   "name": "python",
   "nbconvert_exporter": "python",
   "pygments_lexer": "ipython3",
   "version": "3.9.7"
  },
  "orig_nbformat": 4
 },
 "nbformat": 4,
 "nbformat_minor": 2
}
