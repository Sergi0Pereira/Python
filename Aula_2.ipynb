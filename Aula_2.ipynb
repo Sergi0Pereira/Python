{
 "cells": [
  {
   "cell_type": "markdown",
   "id": "d270dbe5-ff90-42b0-a9fa-22d34dbac55c",
   "metadata": {},
   "source": [
    "#Aula 2"
   ]
  },
  {
   "cell_type": "code",
   "execution_count": 3,
   "id": "8dc23245-f467-4328-98c7-579e1a3640d7",
   "metadata": {},
   "outputs": [
    {
     "name": "stdout",
     "output_type": "stream",
     "text": [
      "Estou a  aprender Python e estou a gostar.\n"
     ]
    }
   ],
   "source": [
    "msg1=\"Estou a  aprender Python e \"\n",
    "msg2= \"estou a gostar.\"\n",
    "msg3= msg1+msg2\n",
    "print(msg3)"
   ]
  },
  {
   "cell_type": "code",
   "execution_count": 12,
   "id": "64235cc8-6187-4235-b1ff-1e5c24f6acd4",
   "metadata": {},
   "outputs": [
    {
     "name": "stdout",
     "output_type": "stream",
     "text": [
      "666\n",
      "Estou a  aprender Python e estou a gostar.\n"
     ]
    }
   ],
   "source": [
    "msg1=\"Estou a  aprender Python e \"\n",
    "msg2= \"estou a gostar.\"\n",
    "msg1=666\n",
    "print(msg1)\n",
    "print(\"Estou a  aprender Python e \" + msg2)"
   ]
  },
  {
   "cell_type": "code",
   "execution_count": 1,
   "id": "a70feaf8-54a1-45be-a7c5-d69276495693",
   "metadata": {
    "tags": []
   },
   "outputs": [
    {
     "name": "stdout",
     "output_type": "stream",
     "text": [
      "Qual o seu Nome?sergio\n",
      "Qual a sua idade?32\n",
      "O  sergio  tem  32  anos de idade.\n"
     ]
    },
    {
     "ename": "KeyboardInterrupt",
     "evalue": "Interrupted by user",
     "output_type": "error",
     "traceback": [
      "\u001b[1;31m---------------------------------------------------------------------------\u001b[0m",
      "\u001b[1;31mKeyboardInterrupt\u001b[0m                         Traceback (most recent call last)",
      "\u001b[1;32m~\\AppData\\Local\\Temp/ipykernel_616/3739460221.py\u001b[0m in \u001b[0;36m<module>\u001b[1;34m\u001b[0m\n\u001b[0;32m      1\u001b[0m \u001b[1;32mfor\u001b[0m \u001b[0mi\u001b[0m \u001b[1;32min\u001b[0m \u001b[0mrange\u001b[0m\u001b[1;33m(\u001b[0m\u001b[1;36m3\u001b[0m\u001b[1;33m)\u001b[0m\u001b[1;33m:\u001b[0m\u001b[1;33m\u001b[0m\u001b[1;33m\u001b[0m\u001b[0m\n\u001b[1;32m----> 2\u001b[1;33m     \u001b[0mnome\u001b[0m\u001b[1;33m=\u001b[0m\u001b[0mstr\u001b[0m\u001b[1;33m(\u001b[0m\u001b[0minput\u001b[0m\u001b[1;33m(\u001b[0m\u001b[1;34m\"Qual o seu Nome?\"\u001b[0m\u001b[1;33m)\u001b[0m\u001b[1;33m)\u001b[0m\u001b[1;33m\u001b[0m\u001b[1;33m\u001b[0m\u001b[0m\n\u001b[0m\u001b[0;32m      3\u001b[0m     \u001b[0midade\u001b[0m \u001b[1;33m=\u001b[0m \u001b[0mint\u001b[0m\u001b[1;33m(\u001b[0m\u001b[0minput\u001b[0m\u001b[1;33m(\u001b[0m\u001b[1;34m\"Qual a sua idade?\"\u001b[0m\u001b[1;33m)\u001b[0m\u001b[1;33m)\u001b[0m\u001b[1;33m\u001b[0m\u001b[1;33m\u001b[0m\u001b[0m\n\u001b[0;32m      4\u001b[0m     \u001b[0mprint\u001b[0m\u001b[1;33m(\u001b[0m\u001b[1;34m\"O \"\u001b[0m \u001b[1;33m,\u001b[0m \u001b[0mnome\u001b[0m \u001b[1;33m,\u001b[0m \u001b[1;34m\" tem \"\u001b[0m \u001b[1;33m,\u001b[0m \u001b[0midade\u001b[0m \u001b[1;33m,\u001b[0m \u001b[1;34m\" anos de idade.\"\u001b[0m\u001b[1;33m)\u001b[0m\u001b[1;33m\u001b[0m\u001b[1;33m\u001b[0m\u001b[0m\n\u001b[0;32m      5\u001b[0m \u001b[1;33m\u001b[0m\u001b[0m\n",
      "\u001b[1;32m~\\anaconda3\\lib\\site-packages\\ipykernel\\kernelbase.py\u001b[0m in \u001b[0;36mraw_input\u001b[1;34m(self, prompt)\u001b[0m\n\u001b[0;32m   1004\u001b[0m                 \u001b[1;34m\"raw_input was called, but this frontend does not support input requests.\"\u001b[0m\u001b[1;33m\u001b[0m\u001b[1;33m\u001b[0m\u001b[0m\n\u001b[0;32m   1005\u001b[0m             )\n\u001b[1;32m-> 1006\u001b[1;33m         return self._input_request(\n\u001b[0m\u001b[0;32m   1007\u001b[0m             \u001b[0mstr\u001b[0m\u001b[1;33m(\u001b[0m\u001b[0mprompt\u001b[0m\u001b[1;33m)\u001b[0m\u001b[1;33m,\u001b[0m\u001b[1;33m\u001b[0m\u001b[1;33m\u001b[0m\u001b[0m\n\u001b[0;32m   1008\u001b[0m             \u001b[0mself\u001b[0m\u001b[1;33m.\u001b[0m\u001b[0m_parent_ident\u001b[0m\u001b[1;33m[\u001b[0m\u001b[1;34m\"shell\"\u001b[0m\u001b[1;33m]\u001b[0m\u001b[1;33m,\u001b[0m\u001b[1;33m\u001b[0m\u001b[1;33m\u001b[0m\u001b[0m\n",
      "\u001b[1;32m~\\anaconda3\\lib\\site-packages\\ipykernel\\kernelbase.py\u001b[0m in \u001b[0;36m_input_request\u001b[1;34m(self, prompt, ident, parent, password)\u001b[0m\n\u001b[0;32m   1049\u001b[0m             \u001b[1;32mexcept\u001b[0m \u001b[0mKeyboardInterrupt\u001b[0m\u001b[1;33m:\u001b[0m\u001b[1;33m\u001b[0m\u001b[1;33m\u001b[0m\u001b[0m\n\u001b[0;32m   1050\u001b[0m                 \u001b[1;31m# re-raise KeyboardInterrupt, to truncate traceback\u001b[0m\u001b[1;33m\u001b[0m\u001b[1;33m\u001b[0m\u001b[0m\n\u001b[1;32m-> 1051\u001b[1;33m                 \u001b[1;32mraise\u001b[0m \u001b[0mKeyboardInterrupt\u001b[0m\u001b[1;33m(\u001b[0m\u001b[1;34m\"Interrupted by user\"\u001b[0m\u001b[1;33m)\u001b[0m \u001b[1;32mfrom\u001b[0m \u001b[1;32mNone\u001b[0m\u001b[1;33m\u001b[0m\u001b[1;33m\u001b[0m\u001b[0m\n\u001b[0m\u001b[0;32m   1052\u001b[0m             \u001b[1;32mexcept\u001b[0m \u001b[0mException\u001b[0m\u001b[1;33m:\u001b[0m\u001b[1;33m\u001b[0m\u001b[1;33m\u001b[0m\u001b[0m\n\u001b[0;32m   1053\u001b[0m                 \u001b[0mself\u001b[0m\u001b[1;33m.\u001b[0m\u001b[0mlog\u001b[0m\u001b[1;33m.\u001b[0m\u001b[0mwarning\u001b[0m\u001b[1;33m(\u001b[0m\u001b[1;34m\"Invalid Message:\"\u001b[0m\u001b[1;33m,\u001b[0m \u001b[0mexc_info\u001b[0m\u001b[1;33m=\u001b[0m\u001b[1;32mTrue\u001b[0m\u001b[1;33m)\u001b[0m\u001b[1;33m\u001b[0m\u001b[1;33m\u001b[0m\u001b[0m\n",
      "\u001b[1;31mKeyboardInterrupt\u001b[0m: Interrupted by user"
     ]
    }
   ],
   "source": [
    "for i in range(3):\n",
    "    nome=str(input(\"Qual o seu Nome?\"))\n",
    "    idade = int(input(\"Qual a sua idade?\"))\n",
    "    print(\"O \" , nome , \" tem \" , idade , \" anos de idade.\")\n",
    "     "
   ]
  },
  {
   "cell_type": "code",
   "execution_count": 190,
   "id": "5c72b7c7-d0d0-4273-91c3-5ff759a6f6ae",
   "metadata": {},
   "outputs": [
    {
     "name": "stdin",
     "output_type": "stream",
     "text": [
      "Insira a sua  nota: 20\n",
      "Insira a sua  nota: 12\n",
      "Insira a sua  nota: 13\n",
      "Insira a sua  nota: 8\n",
      "Insira a sua  nota: 6\n"
     ]
    },
    {
     "name": "stdout",
     "output_type": "stream",
     "text": [
      "A sua media é de:  11.8\n"
     ]
    }
   ],
   "source": [
    "# Media de 5 notas\n",
    "nota=0\n",
    "media=0\n",
    "soma=0\n",
    "for i in range (1,6):\n",
    "    nota=int(input(\"Insira a sua  nota:\"))\n",
    "    soma=int(soma+nota)\n",
    "    media= float(soma/i)\n",
    "print (\"A sua media é de: \" , media) \n",
    "\n",
    "\n",
    "    \n",
    "    "
   ]
  },
  {
   "cell_type": "code",
   "execution_count": null,
   "id": "d57d045e-075c-4273-b587-7f400a3f4d7d",
   "metadata": {},
   "outputs": [],
   "source": [
    "for i in range (0,6):\n",
    "    print (\"*\",end=' )\n",
    "\n",
    "\n",
    "\n",
    "\n",
    "        \n"
   ]
  },
  {
   "cell_type": "code",
   "execution_count": 9,
   "id": "08bff545-c432-4911-a469-a6787433c261",
   "metadata": {},
   "outputs": [
    {
     "name": "stdout",
     "output_type": "stream",
     "text": [
      "Insira por favor o Nome da Rua :as\n",
      "Insira por favor o Número da Porta :sa\n",
      "Insira por favor o Código Postal :as\n",
      "Insira por favor o Localidade :sa\n",
      "A sua Nome da Rua é: as.\n",
      "A sua Número da Porta é: sa.\n",
      "A sua Código Postal é: as.\n",
      "A sua Localidade é: sa.\n"
     ]
    }
   ],
   "source": [
    "Morada= [\"Nome da Rua\",\"Número da Porta\", \"Código Postal\" , \"Localidade\"]\n",
    "Dados=[\"\"]*4\n",
    "for i in range(0,4):\n",
    "    Dados[i] = input(\"Insira por favor o \" + Morada[i] +\" :\")\n",
    "\n",
    "for i in range (0,4):\n",
    "        print (\"A sua \" + Morada[i] + \" é: \"+ Dados[i]+\".\")\n",
    "\n",
    "\n",
    "\n",
    "        \n",
    "        \n",
    "    \n",
    "\n",
    "    "
   ]
  },
  {
   "cell_type": "code",
   "execution_count": null,
   "id": "246defe0-b2e1-4082-8791-cca20ce7079b",
   "metadata": {},
   "outputs": [],
   "source": []
  }
 ],
 "metadata": {
  "kernelspec": {
   "display_name": "Python 3 (ipykernel)",
   "language": "python",
   "name": "python3"
  },
  "language_info": {
   "codemirror_mode": {
    "name": "ipython",
    "version": 3
   },
   "file_extension": ".py",
   "mimetype": "text/x-python",
   "name": "python",
   "nbconvert_exporter": "python",
   "pygments_lexer": "ipython3",
   "version": "3.9.7"
  }
 },
 "nbformat": 4,
 "nbformat_minor": 5
}
