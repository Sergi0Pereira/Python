{
 "cells": [
  {
   "cell_type": "markdown",
   "id": "448f4d2a",
   "metadata": {},
   "source": [
    "## Aula 9 - Aceder ao conteúdo de uma string"
   ]
  },
  {
   "cell_type": "code",
   "execution_count": 3,
   "id": "d5ec76f0",
   "metadata": {},
   "outputs": [
    {
     "name": "stdout",
     "output_type": "stream",
     "text": [
      "Q\n",
      "u\n",
      "i\n",
      "n\n",
      "t\n",
      "i\n",
      "n\n",
      "o\n"
     ]
    }
   ],
   "source": [
    "nome=\"Quintino\"\n",
    "print(nome[0])\n",
    "print(nome[1])\n",
    "print(nome[2])\n",
    "print(nome[3])\n",
    "print(nome[4])\n",
    "print(nome[5])\n",
    "print(nome[6])\n",
    "print(nome[7])"
   ]
  },
  {
   "cell_type": "code",
   "execution_count": 5,
   "id": "0428ce11",
   "metadata": {},
   "outputs": [
    {
     "name": "stdout",
     "output_type": "stream",
     "text": [
      "P\n",
      "r\n",
      "a\n"
     ]
    }
   ],
   "source": [
    "#Escreva o 1º, o 3º e o 5º caracter da variável\n",
    "cidade=\"Portalegre\"\n",
    "print(cidade[0])\n",
    "print(cidade[2])\n",
    "print(cidade[4])"
   ]
  },
  {
   "cell_type": "code",
   "execution_count": 6,
   "id": "9804dc69",
   "metadata": {},
   "outputs": [
    {
     "name": "stdout",
     "output_type": "stream",
     "text": [
      "Primeiro M\n",
      "último o\n"
     ]
    }
   ],
   "source": [
    "#1º e último caracter de uma variável qualquer\n",
    "tool=\"Martelo\"\n",
    "print(\"Primeiro\", tool[0])\n",
    "print(\"último\", tool[-1]) ## A posição -1 corresponde à última."
   ]
  },
  {
   "cell_type": "code",
   "execution_count": 19,
   "id": "134dfe1d",
   "metadata": {},
   "outputs": [
    {
     "name": "stdout",
     "output_type": "stream",
     "text": [
      "Insira uma palavra:adadFaAFAF\n",
      "A\n",
      "Adadfaafaf\n"
     ]
    }
   ],
   "source": [
    "#Coloque a 1ª letra em maiúsculas da palavra inserida\n",
    "palavra=input(\"Insira uma palavra:\")\n",
    "letra=palavra[0].upper()\n",
    "print(letra)\n",
    "resto=palavra[1:].lower() ##Vai imprimir toda a palavra a partir da posição 1\n",
    "print(letra+resto)"
   ]
  },
  {
   "cell_type": "code",
   "execution_count": null,
   "id": "5d821879",
   "metadata": {},
   "outputs": [],
   "source": []
  },
  {
   "cell_type": "code",
   "execution_count": 32,
   "id": "dc1d2aa6",
   "metadata": {},
   "outputs": [
    {
     "name": "stdout",
     "output_type": "stream",
     "text": [
      "Albuquerque\n",
      "Albuquerque\n",
      "buquerque\n",
      "Al\n",
      "l\n",
      "Abqeqe\n",
      "euqreuqublA\n",
      "eqeqbA\n",
      "bdfh\n"
     ]
    }
   ],
   "source": [
    "nome=\"Albuquerque\"\n",
    "nome2=\"abcdefghijklmno\"\n",
    "print(nome[:])  #Vai imprimir a partir da posição 0, ou seja, o nome todo - 0 ou nada é a mesma coisa\n",
    "print(nome[0:]) #Vai imprimir a partir da posição 0, ou seja, o nome todo - 0 ou nada é a mesma coisa\n",
    "print(nome[2:]) #Vai imprimir a partir da posição 2, ou seja, a partir do 3º elemento\n",
    "print(nome[:2]) #Vai imprimir até a posição 2, mas pára antes.\n",
    "print(nome[1:2]) #Vai imprimir a partir da posição 1 e pára antes de chegar à posição 2, ou seja, imprime a posição 1.\n",
    "print(nome[::2]) #Vai imprimir a posição 0 e depois de dois em dois elementos.\n",
    "print(nome[::-1]) #Vai imprimir a variável na ordem inversa dos caracteres, ou seja, começa no fim (-)\n",
    "                  # , imprime a primeira posiçáo do fim e depois progride 1 elemento de cada vez.\n",
    "print(nome[::-2]) # O mesmo da anterior, mas salta dois elementos de cada vez\n",
    "    \n",
    "print(nome2[1:9:2]) # Vai imprimir da posição 1 até à 9, saltando de 2 em 2."
   ]
  },
  {
   "cell_type": "code",
   "execution_count": 3,
   "id": "c6c180f4",
   "metadata": {},
   "outputs": [
    {
     "name": "stdout",
     "output_type": "stream",
     "text": [
      "Insira uma palavra: amdma jsço ijsdoa jsºpo\n",
      "dajç jdajºo\n"
     ]
    }
   ],
   "source": [
    "#Escreva todos os caracteres de uma palavra a começar no 3º caracter de 2 em 2.\n",
    "palavra=input(\"Insira uma palavra: \")\n",
    "print(palavra[2::2])"
   ]
  },
  {
   "cell_type": "code",
   "execution_count": 7,
   "id": "f5ffb4f7",
   "metadata": {},
   "outputs": [
    {
     "name": "stdout",
     "output_type": "stream",
     "text": [
      "Write something: dsda a \n",
      "da \n"
     ]
    }
   ],
   "source": [
    "#Escreva todos os caracteres de uma palavra a começar no 1º de 3 em 3\n",
    "word=input(\"Write something: \")\n",
    "print(word[0::3])"
   ]
  },
  {
   "cell_type": "code",
   "execution_count": 9,
   "id": "baba1d49",
   "metadata": {},
   "outputs": [
    {
     "name": "stdout",
     "output_type": "stream",
     "text": [
      "Write something please:ada a   S ADAAS QS\n",
      "SQ SAADA S   a ada\n"
     ]
    }
   ],
   "source": [
    "#Inverter uma palavra\n",
    "word=input(\"Write something please:\")\n",
    "print(word[::-1])"
   ]
  },
  {
   "cell_type": "code",
   "execution_count": 12,
   "id": "3967949e",
   "metadata": {},
   "outputs": [
    {
     "name": "stdout",
     "output_type": "stream",
     "text": [
      "Insira uma palavra:spa jlskd \n",
      "lj aps\n"
     ]
    }
   ],
   "source": [
    "#Escrever as primeiras 6 letras de uma palavra por ordem inversa\n",
    "palavra=input(\"Insira uma palavra:\")\n",
    "temp=palavra[:6]\n",
    "print(temp[::-1])"
   ]
  },
  {
   "cell_type": "code",
   "execution_count": 7,
   "id": "c4bd1566",
   "metadata": {},
   "outputs": [
    {
     "name": "stdout",
     "output_type": "stream",
     "text": [
      "Insira uma palavra com 4 ou mais letras: constituição\n",
      "As primeiras 4 letras: cons\n",
      "As primeiras 4 letras em ordem inversa: snoc\n",
      "12\n"
     ]
    }
   ],
   "source": [
    "#Insere uma palavra com 4 letras ou mais\n",
    "# Mostra as primeiras 4 letras\n",
    "# Mostra as primeiras 4 letras por ordem inversa\n",
    "# Mostra as últimas 4 letras\n",
    "# Mostra as últimas 4 letras por ordem inversa\n",
    "\n",
    "word=input(\"Insira uma palavra com 4 ou mais letras: \")\n",
    "\n",
    "while len(word)<4:\n",
    "    word=input(\"Letras insuficientes. Insira uma palavra com 4 ou mais letras.\")\n",
    "\n",
    "curto=(word[:4])  #Determinamos as primeiras 4 letras e atribuímos o resultado à variável curto \n",
    "print(\"As primeiras 4 letras: \"+ curto)    \n",
    "invert=(curto[::-1]) #A segunda var é a inversão da variável curto\n",
    "print(\"As primeiras 4 letras em ordem inversa: \"+ invert)\n",
    "\n",
    "comp=len(word) #Determino o comprimento da string\n",
    "last4=comp\n",
    "\n",
    "##Fazer depois esta parte\n",
    "\n",
    "\n",
    "#print(\"As primeiras 4 letras em ordem inversa: \" + invert[:-1])\n",
    "#primeira var invertida (var[::-1])\n"
   ]
  },
  {
   "cell_type": "code",
   "execution_count": 4,
   "id": "2e0e0c60",
   "metadata": {},
   "outputs": [
    {
     "name": "stdout",
     "output_type": "stream",
     "text": [
      "Maca\n",
      "acaM\n",
      "cada\n",
      "adac\n"
     ]
    }
   ],
   "source": [
    "#Resolução para uma palavra com 8 letras\n",
    "\n",
    "palavra=\"Macacada\"\n",
    "print(palavra[:4])\n",
    "print(palavra[3::-1])\n",
    "print(palavra[4:])\n",
    "print(palavra[:3:-1])"
   ]
  },
  {
   "cell_type": "code",
   "execution_count": 10,
   "id": "310229ec",
   "metadata": {},
   "outputs": [
    {
     "name": "stdout",
     "output_type": "stream",
     "text": [
      "Nº de caracteres da string:\n",
      "17\n",
      "\n",
      "\n",
      "Nº de vezes da letra 'a' na string:\n",
      "2\n",
      "\n",
      "\n",
      "Posição do 1º espaço: \n",
      "6\n",
      "\n",
      "\n",
      "Posição do 2º espaço: \n",
      "9\n"
     ]
    }
   ],
   "source": [
    "dica=\"Guarda o Ficheiro\"\n",
    "print(\"Nº de caracteres da string:\")\n",
    "print(len(dica))\n",
    "print(\"\\n\")\n",
    "print(\"Nº de vezes da letra 'a' na string:\")\n",
    "print(dica.count(\"a\"))\n",
    "print(\"\\n\")\n",
    "print(\"Posição do 1º espaço: \")\n",
    "n=dica.find(\" \")\n",
    "print(n)\n",
    "print(\"\\n\")\n",
    "print(\"Posição do 2º espaço: \")\n",
    "temp=dica[n+1:]\n",
    "n2=temp.find(\" \")\n",
    "s=n+1+n2+1\n",
    "print(s)"
   ]
  },
  {
   "cell_type": "code",
   "execution_count": 11,
   "id": "10f82f3b",
   "metadata": {},
   "outputs": [
    {
     "name": "stdout",
     "output_type": "stream",
     "text": [
      "Número de caracteres da string: \n",
      "17\n",
      "\n",
      "\n",
      "Nº de caracteres em meia string: \n",
      "9\n",
      "\n",
      "\n",
      "1a parte:\n",
      "Guarda o \n",
      "\n",
      "\n",
      "2a parte:\n",
      "ficheiro\n"
     ]
    }
   ],
   "source": [
    "#Saber o comprimento de uma string e o comprimento de meia string.\n",
    "\n",
    "dica=\"Guarda o ficheiro\"\n",
    "print(\"Número de caracteres da string: \")\n",
    "tam=len(dica)\n",
    "print(tam)\n",
    "\n",
    "if tam % 2:\n",
    "    tam=tam+1\n",
    "print (\"\\n\")\n",
    "meio=int(tam/2)\n",
    "print(\"Nº de caracteres em meia string: \")\n",
    "print(meio)\n",
    "print(\"\\n\")\n",
    "print(\"1a parte:\")\n",
    "print(dica[:meio])\n",
    "print(\"\\n\")\n",
    "print(\"2a parte:\")\n",
    "print(dica[meio:])"
   ]
  }
 ],
 "metadata": {
  "interpreter": {
   "hash": "e5898a40ac1bc55161c2b54e62bd79c8b1a24ee26972e08bccb36328cd6b373a"
  },
  "kernelspec": {
   "display_name": "Python 3.9.7 ('base')",
   "language": "python",
   "name": "python3"
  },
  "language_info": {
   "codemirror_mode": {
    "name": "ipython",
    "version": 3
   },
   "file_extension": ".py",
   "mimetype": "text/x-python",
   "name": "python",
   "nbconvert_exporter": "python",
   "pygments_lexer": "ipython3",
   "version": "3.9.7"
  }
 },
 "nbformat": 4,
 "nbformat_minor": 5
}
