{
 "cells": [
  {
   "cell_type": "markdown",
   "metadata": {},
   "source": [
    "#Continuacao de Listas"
   ]
  },
  {
   "cell_type": "code",
   "execution_count": 4,
   "metadata": {},
   "outputs": [
    {
     "name": "stdout",
     "output_type": "stream",
     "text": [
      "[11, 12, 15, 16, 17, 18, 19, 20]\n",
      "[11, 12, 15, 16, 17, 18, 19]\n"
     ]
    }
   ],
   "source": [
    "lista=[11,12,15,16,17,18,19,20]\n",
    "print(lista)\n",
    "del lista[-1]\n",
    "print(lista)"
   ]
  },
  {
   "cell_type": "code",
   "execution_count": 23,
   "metadata": {},
   "outputs": [
    {
     "name": "stdout",
     "output_type": "stream",
     "text": [
      "[4, 1, 2, 10, 6, 9]\n",
      "[4, 1, 2, 6, 9]\n"
     ]
    }
   ],
   "source": [
    "#Tarefa 1\n",
    "\n",
    "lis=[]\n",
    "num=0\n",
    "while (num>=0):\n",
    "    num=int(input(\"Insira o seu numero: \"))\n",
    "    lis.append(num)\n",
    "del lis[-1]\n",
    "print(lis)\n",
    "i=0\n",
    "for x in lis:\n",
    "    if x==10:\n",
    "        del lis[i]\n",
    "    i=i+1\n",
    "print(lis)"
   ]
  },
  {
   "cell_type": "code",
   "execution_count": 41,
   "metadata": {},
   "outputs": [
    {
     "name": "stdout",
     "output_type": "stream",
     "text": [
      "[4, 5, 6, 10, 10, 2, 3, 10, 5, 10, -1]\n",
      "[4, 5, 6, 10, 10, 2, 3, 10, 5, 10]\n"
     ]
    }
   ],
   "source": [
    "#Tarefa 2\n",
    "\n",
    "lis=[]\n",
    "num=0\n",
    "n=len(lis)\n",
    "while num>=0:\n",
    "    num=int(input(\"Insira o seu numero: \"))\n",
    "    lis.append(num)\n",
    "while i<n:\n",
    "    if list[i]==10:\n",
    "        del lis[i]\n",
    "        i=i-1\n",
    "        n=n-1\n",
    "    else:\n",
    "        i=i+1\n",
    "    print(i)\n",
    "print(lis)\n",
    "    \n",
    "        \n",
    "lis.pop() #apaga o ultimo elemento ou o indice indicado\n",
    "\n",
    "print(lis)\n"
   ]
  }
 ],
 "metadata": {
  "interpreter": {
   "hash": "e5898a40ac1bc55161c2b54e62bd79c8b1a24ee26972e08bccb36328cd6b373a"
  },
  "kernelspec": {
   "display_name": "Python 3.9.7 ('base')",
   "language": "python",
   "name": "python3"
  },
  "language_info": {
   "codemirror_mode": {
    "name": "ipython",
    "version": 3
   },
   "file_extension": ".py",
   "mimetype": "text/x-python",
   "name": "python",
   "nbconvert_exporter": "python",
   "pygments_lexer": "ipython3",
   "version": "3.9.7"
  },
  "orig_nbformat": 4
 },
 "nbformat": 4,
 "nbformat_minor": 2
}
