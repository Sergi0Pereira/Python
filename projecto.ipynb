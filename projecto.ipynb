{
 "cells": [
  {
   "cell_type": "code",
   "execution_count": 18,
   "metadata": {},
   "outputs": [
    {
     "name": "stdout",
     "output_type": "stream",
     "text": [
      "Tipo de Peixe: cavala \n",
      "Preço: 13 $\n"
     ]
    }
   ],
   "source": [
    "def fishstore(\n",
    "    fish_entry=str(input(\"Qual o tipo de peixe que pretende inserir?\")),\n",
    "    price_entry=int(input(\"Qual o preco do peixe inserido anteriormente?\"))\n",
    "):\n",
    "    print(\"Tipo de Peixe:\", fish_entry , \"\\nPreço:\", price_entry, \"$\")\n",
    "\n",
    "fishstore()\n"
   ]
  }
 ],
 "metadata": {
  "interpreter": {
   "hash": "738bd597d4dbf3a6abea74cf97b9ba28759c3693d55e0e213413b108a385f74b"
  },
  "kernelspec": {
   "display_name": "Python 3.9.7 ('base')",
   "language": "python",
   "name": "python3"
  },
  "language_info": {
   "codemirror_mode": {
    "name": "ipython",
    "version": 3
   },
   "file_extension": ".py",
   "mimetype": "text/x-python",
   "name": "python",
   "nbconvert_exporter": "python",
   "pygments_lexer": "ipython3",
   "version": "3.9.7"
  },
  "orig_nbformat": 4
 },
 "nbformat": 4,
 "nbformat_minor": 2
}
