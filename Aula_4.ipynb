{
 "cells": [
  {
   "cell_type": "markdown",
   "id": "c7413e65",
   "metadata": {},
   "source": [
    "Desafio: Adicionar ao Menu\n"
   ]
  },
  {
   "cell_type": "code",
   "execution_count": 5,
   "id": "a37be5fa",
   "metadata": {},
   "outputs": [
    {
     "name": "stdout",
     "output_type": "stream",
     "text": [
      "Cenoura, Batata,Couve,Beringela\n",
      "Qual o prato que deseja adicionar? Lentilha\n",
      "Cenoura, Batata,Couve,Beringela,Lentilha\n"
     ]
    }
   ],
   "source": [
    "menu=(\"Cenoura, Batata,Couve,Beringela\") \n",
    "print(menu)\n",
    "menu_ask=input(\"Qual o prato que deseja adicionar? \").capitalize()\n",
    "menu= menu+ \",\" + menu_ask\n",
    "print(menu)"
   ]
  },
  {
   "cell_type": "markdown",
   "id": "00a8dbee",
   "metadata": {},
   "source": [
    "## CONDICIONAIS"
   ]
  },
  {
   "cell_type": "code",
   "execution_count": 7,
   "id": "bc089fcc",
   "metadata": {},
   "outputs": [
    {
     "name": "stdout",
     "output_type": "stream",
     "text": [
      "Lamento mas nao há batata!\n"
     ]
    }
   ],
   "source": [
    "#com batata\n",
    "batata= False\n",
    "if batata:\n",
    "    print(\"Batata está no Menu\")\n",
    "else:\n",
    "    print(\"Lamento mas nao há batata!\")"
   ]
  },
  {
   "cell_type": "code",
   "execution_count": 11,
   "id": "0671af63",
   "metadata": {},
   "outputs": [
    {
     "name": "stdout",
     "output_type": "stream",
     "text": [
      "Cenoura, Batata,Couve,Beringela\n",
      "Qual o prato que deseja adicionar? Cenoura\n",
      "Vamos lá adicionar o  cenoura\n",
      "Cenoura, Batata,Couve,Beringela,cenoura\n"
     ]
    }
   ],
   "source": [
    "menu=\"Cenoura, Batata,Couve,Beringela\"\n",
    "print(menu)\n",
    "add=input(\"Qual o prato que deseja adicionar? \").lower()\n",
    "if(add in menu):\n",
    "    print(\"Esse prato já existe!\")\n",
    "else:\n",
    "    print(\"Vamos lá adicionar o \", add)\n",
    "    menu= menu+ \",\" + add\n",
    "    \n",
    "print(menu)"
   ]
  },
  {
   "cell_type": "code",
   "execution_count": 17,
   "id": "dfc7c626",
   "metadata": {},
   "outputs": [],
   "source": [
    "conhecido= False\n",
    "if conhecido:\n",
    "    print(\"Ola\")\n",
    "\n"
   ]
  },
  {
   "cell_type": "code",
   "execution_count": 28,
   "id": "1b23e860",
   "metadata": {},
   "outputs": [
    {
     "name": "stdout",
     "output_type": "stream",
     "text": [
      "Quem é o Campeao Nacional?porto\n",
      "Eu quero o Porto Campeoao!\n"
     ]
    }
   ],
   "source": [
    "Campeao= input(\"Quem é o Campeao Nacional?\").lower()\n",
    "if Campeao == \"Porto\":\n",
    "    pass\n",
    "else:\n",
    "    print(\"Eu quero o Porto Campeoao!\")\n"
   ]
  },
  {
   "cell_type": "code",
   "execution_count": 46,
   "id": "e156da25",
   "metadata": {},
   "outputs": [
    {
     "name": "stdout",
     "output_type": "stream",
     "text": [
      "está Sol hoje?sim\n",
      "Leva o guarda chuva na mesma.\n"
     ]
    }
   ],
   "source": [
    "dia=input(\"está Sol hoje?\").lower()\n",
    "if dia.startswith(\"n\"):\n",
    "    print(\"Leva o guarda-chuva\")\n",
    "else:\n",
    "    print(\"Leva o guarda chuva na mesma.\")"
   ]
  },
  {
   "cell_type": "code",
   "execution_count": 40,
   "id": "7b9bfca8",
   "metadata": {},
   "outputs": [
    {
     "name": "stdout",
     "output_type": "stream",
     "text": [
      "Qual o titulo do seu livro favorito?ola mundo\n",
      "ola mundo.Se escreveu em minusculas nao deve ser grande coisa...!\n"
     ]
    }
   ],
   "source": [
    "livro_fav=input(\"Qual o titulo do seu livro favorito?\")\n",
    "if livro_fav.istitle():\n",
    "    print(livro_fav, \"deve ser bom!\")\n",
    "else:\n",
    "    print(livro_fav+ \".Se escreveu em minusculas nao deve ser grande coisa...!\")"
   ]
  },
  {
   "cell_type": "markdown",
   "id": "397a376a",
   "metadata": {},
   "source": [
    "Relembrando:\n",
    ".isalpha()\n",
    ".isalnum()\n",
    ".istitle()\n",
    ".isdigit()\n",
    ".islower()\n",
    ".startswith()\n"
   ]
  },
  {
   "cell_type": "code",
   "execution_count": 51,
   "id": "910198a5",
   "metadata": {},
   "outputs": [
    {
     "name": "stdout",
     "output_type": "stream",
     "text": [
      "Insira um numero inteiro positivosds\n",
      "Este nao é um numero positivo\n"
     ]
    }
   ],
   "source": [
    "num=input(\"Insira um numero inteiro positivo\")\n",
    "if num.isdigit():\n",
    "    print (\"Este é um numero positivo!\")\n",
    "else:\n",
    "    print(\"Este nao é um numero positivo\")"
   ]
  },
  {
   "cell_type": "code",
   "execution_count": null,
   "id": "11d8fe92",
   "metadata": {},
   "outputs": [],
   "source": []
  }
 ],
 "metadata": {
  "kernelspec": {
   "display_name": "Python 3 (ipykernel)",
   "language": "python",
   "name": "python3"
  },
  "language_info": {
   "codemirror_mode": {
    "name": "ipython",
    "version": 3
   },
   "file_extension": ".py",
   "mimetype": "text/x-python",
   "name": "python",
   "nbconvert_exporter": "python",
   "pygments_lexer": "ipython3",
   "version": "3.9.7"
  }
 },
 "nbformat": 4,
 "nbformat_minor": 5
}
